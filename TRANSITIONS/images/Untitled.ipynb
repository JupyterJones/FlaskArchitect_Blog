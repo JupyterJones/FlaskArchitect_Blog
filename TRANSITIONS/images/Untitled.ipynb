{
 "cells": [
  {
   "cell_type": "code",
   "execution_count": null,
   "id": "71609fbd",
   "metadata": {},
   "outputs": [],
   "source": []
  },
  {
   "cell_type": "code",
   "execution_count": null,
   "id": "8e9c1072",
   "metadata": {},
   "outputs": [],
   "source": [
    "melt color:black out=00:00:20.000     -track Bl_Testv1.mp4     -blank out=00:00:2.000        00001.jpg in=00:00:00.000 out=00:00:5.000         -attach-clip affine background=colour:0 transition.geometry=\"0.49%/53.29%:41.72%x46.35%\"     -blank out=00:00:1.000         00002.jpg in=00:00:00.000 out=00:00:5.000         -attach-clip affine background=colour:0 transition.geometry=\"0.00%/30.13%:69.86%x69.86%\"     -filter affine transition.cycle=0 transition.geometry=\"0=0.00%/0.00%:100.00%x100.00%;49=0.00%/0.00%:100.00%x100.00%;75=0.00%/-106.07%:206.07%x206.07%;125=0.00%/-106.07%:206.07%x206.07%;250=0.00%/-0.22%:100.22%x100.22%;300=0.00%/-0.22%:100.22%x100.22%;350=-31.34%/-31.64%:131.64%x131.64%\"     -transition mix:-1 always_active=1 a_track=0 b_track=1 sum=1     -transition frei0r.cairoblend a_track=0 b_track=1 disable=0     -transition mix:-1 always_active=1 a_track=0 b_track=2 sum=1     -transition frei0r.cairoblend a_track=0 b_track=2 disable=0     -consumer avformat:zoomed.mp4\n"
   ]
  }
 ],
 "metadata": {
  "kernelspec": {
   "display_name": "cloned-base",
   "language": "python",
   "name": "cloned-base"
  },
  "language_info": {
   "codemirror_mode": {
    "name": "ipython",
    "version": 3
   },
   "file_extension": ".py",
   "mimetype": "text/x-python",
   "name": "python",
   "nbconvert_exporter": "python",
   "pygments_lexer": "ipython3",
   "version": "3.9.12"
  }
 },
 "nbformat": 4,
 "nbformat_minor": 5
}
