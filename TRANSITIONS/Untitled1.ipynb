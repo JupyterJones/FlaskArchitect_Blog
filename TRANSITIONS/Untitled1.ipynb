{
 "cells": [
  {
   "cell_type": "code",
   "execution_count": 1,
   "id": "ad831863",
   "metadata": {},
   "outputs": [],
   "source": [
    "import dearpygui.dearpygui as dpg\n",
    "\n",
    "def save_callback():\n",
    "    print(\"Save Clicked\")\n",
    "\n",
    "dpg.create_context()\n",
    "dpg.create_viewport()\n",
    "dpg.setup_dearpygui()\n",
    "\n",
    "with dpg.window(label=\"Example Window\"):\n",
    "    dpg.add_text(\"Hello world\")\n",
    "    dpg.add_button(label=\"Save\", callback=save_callback)\n",
    "    dpg.add_input_text(label=\"string\")\n",
    "    dpg.add_slider_float(label=\"float\")\n",
    "\n",
    "dpg.show_viewport()\n",
    "dpg.start_dearpygui()\n",
    "dpg.destroy_context()"
   ]
  },
  {
   "cell_type": "code",
   "execution_count": 1,
   "id": "db1f05cb",
   "metadata": {},
   "outputs": [
    {
     "name": "stdout",
     "output_type": "stream",
     "text": [
      "sender: 159, \t app_data: None, \t user_data: None\n"
     ]
    }
   ],
   "source": [
    "import dearpygui.dearpygui as dpg\n",
    "import dearpygui.demo as demo\n",
    "\n",
    "dpg.create_context()\n",
    "dpg.create_viewport(title='Custom Title', width=600, height=600)\n",
    "\n",
    "demo.show_demo()\n",
    "\n",
    "dpg.setup_dearpygui()\n",
    "dpg.show_viewport()\n",
    "dpg.start_dearpygui()\n",
    "dpg.destroy_context()\n"
   ]
  },
  {
   "cell_type": "code",
   "execution_count": null,
   "id": "0efb6490",
   "metadata": {},
   "outputs": [],
   "source": []
  }
 ],
 "metadata": {
  "kernelspec": {
   "display_name": "base",
   "language": "python",
   "name": "base"
  },
  "language_info": {
   "codemirror_mode": {
    "name": "ipython",
    "version": 3
   },
   "file_extension": ".py",
   "mimetype": "text/x-python",
   "name": "python",
   "nbconvert_exporter": "python",
   "pygments_lexer": "ipython3",
   "version": "3.9.12"
  }
 },
 "nbformat": 4,
 "nbformat_minor": 5
}
